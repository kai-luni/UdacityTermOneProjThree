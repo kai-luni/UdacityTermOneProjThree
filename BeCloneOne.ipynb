{
 "cells": [
  {
   "cell_type": "code",
   "execution_count": 3,
   "metadata": {},
   "outputs": [
    {
     "name": "stdout",
     "output_type": "stream",
     "text": [
      "(160, 320, 3)\n"
     ]
    },
    {
     "name": "stderr",
     "output_type": "stream",
     "text": [
      "/home/carnd/anaconda3/envs/carnd-term1/lib/python3.5/site-packages/ipykernel_launcher.py:34: UserWarning: Update your `Conv2D` call to the Keras 2 API: `Conv2D(6, (5, 5), activation=\"relu\")`\n",
      "/home/carnd/anaconda3/envs/carnd-term1/lib/python3.5/site-packages/ipykernel_launcher.py:36: UserWarning: Update your `Conv2D` call to the Keras 2 API: `Conv2D(6, (5, 5), activation=\"relu\")`\n"
     ]
    },
    {
     "name": "stdout",
     "output_type": "stream",
     "text": [
      "Train on 1548 samples, validate on 388 samples\n",
      "Epoch 1/10\n",
      "1548/1548 [==============================] - 9s - loss: 76.1450 - val_loss: 0.0200\n",
      "Epoch 2/10\n",
      "1548/1548 [==============================] - 6s - loss: 0.0245 - val_loss: 0.0195\n",
      "Epoch 3/10\n",
      "1548/1548 [==============================] - 6s - loss: 0.0240 - val_loss: 0.0189\n",
      "Epoch 4/10\n",
      "1548/1548 [==============================] - 6s - loss: 0.0235 - val_loss: 0.0184\n",
      "Epoch 5/10\n",
      "1548/1548 [==============================] - 6s - loss: 0.0230 - val_loss: 0.0180\n",
      "Epoch 6/10\n",
      "1548/1548 [==============================] - 6s - loss: 0.0227 - val_loss: 0.0178\n",
      "Epoch 7/10\n",
      "1548/1548 [==============================] - 6s - loss: 0.0223 - val_loss: 0.0176\n",
      "Epoch 8/10\n",
      "1548/1548 [==============================] - 6s - loss: 0.0219 - val_loss: 0.0174\n",
      "Epoch 9/10\n",
      "1548/1548 [==============================] - 6s - loss: 0.0216 - val_loss: 0.0172\n",
      "Epoch 10/10\n",
      "1548/1548 [==============================] - 6s - loss: 0.0211 - val_loss: 0.0171\n",
      "1936/1936 [==============================] - 2s     \n",
      "0.0200674313569\n"
     ]
    }
   ],
   "source": [
    "import csv\n",
    "import cv2\n",
    "import numpy as np\n",
    "\n",
    "lines = []\n",
    "with open(\"driving_log.csv\") as csvfile:\n",
    "    reader = csv.reader(csvfile)\n",
    "    for line in reader:\n",
    "        lines.append(line)\n",
    "\n",
    "images = []\n",
    "measurements = []\n",
    "counter = 0\n",
    "for line in lines:\n",
    "    sourcepath = line[0]\n",
    "    filename = sourcepath.split('\\\\')[-1]\n",
    "    currentpath = \"IMG/\" + filename\n",
    "    image = cv2.imread(currentpath)\n",
    "    images.append(image)\n",
    "    measurements.append(line[3])\n",
    "    counter = counter + 1\n",
    "    \n",
    "print(images[0].shape)\n",
    "x_train = np.array(images)\n",
    "y_train = np.array(measurements)\n",
    "\n",
    "from keras.models import Sequential\n",
    "from keras.layers import Flatten, Dense, Lambda\n",
    "from keras.layers.convolutional import Convolution2D\n",
    "from keras.layers.pooling import MaxPooling2D\n",
    "\n",
    "model = Sequential()\n",
    "model.add(Lambda(lambda x: (x/255.0), input_shape = (160, 320, 3)))\n",
    "model.add(Convolution2D(6,5,5,activation=\"relu\"))\n",
    "model.add(MaxPooling2D())\n",
    "model.add(Convolution2D(6,5,5,activation=\"relu\"))\n",
    "model.add(MaxPooling2D())\n",
    "model.add(Flatten())\n",
    "model.add(Dense(120))\n",
    "model.add(Dense(84))\n",
    "model.add(Dense(1))\n",
    "model.compile(loss='mse', optimizer='adam')\n",
    "model.fit(x_train, y_train, validation_split=0.2, shuffle = True, epochs = 10)\n",
    "model.save('model.h5')\n",
    "\n",
    "scores = model.evaluate(x_train, y_train)\n",
    "print(scores)"
   ]
  },
  {
   "cell_type": "code",
   "execution_count": null,
   "metadata": {
    "collapsed": true
   },
   "outputs": [],
   "source": []
  },
  {
   "cell_type": "code",
   "execution_count": null,
   "metadata": {
    "collapsed": true
   },
   "outputs": [],
   "source": []
  }
 ],
 "metadata": {
  "kernelspec": {
   "display_name": "Python 3",
   "language": "python",
   "name": "python3"
  },
  "language_info": {
   "codemirror_mode": {
    "name": "ipython",
    "version": 3
   },
   "file_extension": ".py",
   "mimetype": "text/x-python",
   "name": "python",
   "nbconvert_exporter": "python",
   "pygments_lexer": "ipython3",
   "version": "3.5.4"
  },
  "widgets": {
   "state": {},
   "version": "1.1.2"
  }
 },
 "nbformat": 4,
 "nbformat_minor": 2
}
